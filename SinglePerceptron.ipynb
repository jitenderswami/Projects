{
  "nbformat": 4,
  "nbformat_minor": 0,
  "metadata": {
    "colab": {
      "name": "SinglePerceptron.ipynb",
      "provenance": []
    },
    "kernelspec": {
      "name": "python3",
      "display_name": "Python 3"
    }
  },
  "cells": [
    {
      "cell_type": "code",
      "metadata": {
        "id": "SpCv6-59-8FM"
      },
      "source": [
        "import numpy as np"
      ],
      "execution_count": null,
      "outputs": []
    },
    {
      "cell_type": "code",
      "metadata": {
        "id": "JxkZKoSt_NrY"
      },
      "source": [
        "class Perceptron(object):\r\n",
        "\r\n",
        "  def __init__ (self,n_features,epoches = 100, learning_rate = 0.01):\r\n",
        "    self.epoches = epoches\r\n",
        "    self.learning_rate = learning_rate\r\n",
        "    self.w = np.zeros(n_features + 1)                                       #intiating weights and bias with zeroes\r\n",
        "\r\n",
        "  def predict(self,inputs):\r\n",
        "    z = np.dot(inputs,self.w[1:]) + self.w[0]                               # Calculating Z value using z = w*x + b\r\n",
        "\r\n",
        "    if z > 0 :                                                              # Defining Activation Function \r\n",
        "      activation  = 0\r\n",
        "    else:\r\n",
        "      activation = 1\r\n",
        "    return activation \r\n",
        "  \r\n",
        "  def train(self,train_data,labels):\r\n",
        "\r\n",
        "    for _ in range(self.epoches):\r\n",
        "      for input, label in zip(train_data,labels):\r\n",
        "        prediction = self.predict(input)\r\n",
        "                                                                            #updating Weights \r\n",
        "        self.w[1:] += self.learning_rate*(label - prediction)*input\r\n",
        "        self.w[0] +=  self.learning_rate*(label - prediction)"
      ],
      "execution_count": null,
      "outputs": []
    },
    {
      "cell_type": "markdown",
      "metadata": {
        "id": "8b1P9Qx4DCi1"
      },
      "source": [
        "## Using Perceptron for XOR gate"
      ]
    },
    {
      "cell_type": "code",
      "metadata": {
        "colab": {
          "base_uri": "https://localhost:8080/"
        },
        "id": "JIZTQ87yA0EH",
        "outputId": "6e6792f8-8ec2-4986-e252-0d783802646a"
      },
      "source": [
        "# Defining the Train Data\r\n",
        "\r\n",
        "train = []\r\n",
        "\r\n",
        "train.append(np.array([0,0]))\r\n",
        "train.append(np.array([0,1]))\r\n",
        "train.append(np.array([1,0]))\r\n",
        "train.append(np.array([1,1]))\r\n",
        "\r\n",
        "labels = np.array([0,1,1,0])\r\n",
        "\r\n",
        "print(train,labels)"
      ],
      "execution_count": null,
      "outputs": [
        {
          "output_type": "stream",
          "text": [
            "[array([0, 0]), array([0, 1]), array([1, 0]), array([1, 1])] [0 1 1 0]\n"
          ],
          "name": "stdout"
        }
      ]
    },
    {
      "cell_type": "code",
      "metadata": {
        "id": "qz1xS7vYEIeA"
      },
      "source": [
        "#Training the Perceptron\r\n",
        "p = Perceptron(2)\r\n",
        "\r\n",
        "p.train(train,labels)\r\n",
        "\r\n"
      ],
      "execution_count": null,
      "outputs": []
    },
    {
      "cell_type": "code",
      "metadata": {
        "colab": {
          "base_uri": "https://localhost:8080/"
        },
        "id": "YdPw2BmIEmGk",
        "outputId": "6471f872-888d-4d18-9c39-3a6ccf2a335f"
      },
      "source": [
        "p.predict(np.array([0,1]))"
      ],
      "execution_count": null,
      "outputs": [
        {
          "output_type": "execute_result",
          "data": {
            "text/plain": [
              "1"
            ]
          },
          "metadata": {
            "tags": []
          },
          "execution_count": 19
        }
      ]
    },
    {
      "cell_type": "code",
      "metadata": {
        "id": "BFSkp-BvFUnZ"
      },
      "source": [
        ""
      ],
      "execution_count": null,
      "outputs": []
    }
  ]
}